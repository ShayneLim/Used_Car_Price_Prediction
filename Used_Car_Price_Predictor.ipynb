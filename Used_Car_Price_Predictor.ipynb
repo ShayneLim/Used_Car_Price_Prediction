{
 "cells": [
  {
   "cell_type": "code",
   "execution_count": null,
   "id": "d6aad303-4170-4b3b-afe5-00545c6384c0",
   "metadata": {},
   "outputs": [],
   "source": [
    "import numpy as np\n",
    "import matplotlib.pyplot as plt\n",
    "import pandas as pd\n",
    "import seaborn as sns\n",
    "\n",
    "#filepath\n",
    "file_path = '/Volumes/SHAYNE SSD/Project_Datasets/used_car/vehicles.csv'\n",
    "\n",
    "#datframe\n",
    "df = pd.read_csv(file_path)\n",
    "\n",
    "df.info()\n",
    "df.head()"
   ]
  },
  {
   "cell_type": "code",
   "execution_count": null,
   "id": "70cdbd8a-b846-4ddb-a3a6-bae0c7bac17d",
   "metadata": {},
   "outputs": [],
   "source": [
    "columns_to_drop = [\n",
    "    'id', 'url', 'region', 'region_url', 'VIN', 'image_url', \n",
    "    'description', 'county', 'state', 'lat', 'long', 'paint_color', 'size',\n",
    "    'posting_date'\n",
    "]\n",
    "\n",
    "df_cleaned = df.drop(columns = columns_to_drop)\n",
    "df_cleaned.info()"
   ]
  },
  {
   "cell_type": "code",
   "execution_count": null,
   "id": "2ec644c8-d8dc-4c9c-b23b-add12a44f00d",
   "metadata": {},
   "outputs": [],
   "source": [
    "#find age of car\n",
    "current_year = df_cleaned['year'].max() + 1\n",
    "\n",
    "df_cleaned['car_age'] = current_year - df_cleaned['year']\n",
    "df_cleaned = df_cleaned.drop(columns = ['year'])\n",
    "\n",
    "df_cleaned.info()"
   ]
  },
  {
   "cell_type": "code",
   "execution_count": null,
   "id": "f87e26b5-5bda-4362-9b65-149a00a610e3",
   "metadata": {},
   "outputs": [],
   "source": [
    "df_cleaned.head()"
   ]
  },
  {
   "cell_type": "code",
   "execution_count": 28,
   "id": "26ae5825-6591-405c-b809-915d148c35f7",
   "metadata": {},
   "outputs": [
    {
     "name": "stdout",
     "output_type": "stream",
     "text": [
      "price                0\n",
      "manufacturer     17646\n",
      "model             5277\n",
      "condition       174104\n",
      "cylinders       177678\n",
      "fuel              3013\n",
      "odometer          4400\n",
      "title_status      8242\n",
      "transmission      2556\n",
      "drive           130567\n",
      "type             92858\n",
      "car_age           1205\n",
      "dtype: int64\n"
     ]
    }
   ],
   "source": [
    "missing_data = df_cleaned.isnull().sum()\n",
    "print(missing_data)"
   ]
  },
  {
   "cell_type": "code",
   "execution_count": 37,
   "id": "2450ded8-8bb3-4693-b7b7-2032edca9497",
   "metadata": {},
   "outputs": [
    {
     "name": "stdout",
     "output_type": "stream",
     "text": [
      "422480\n",
      "after dropping rows: 422480\n",
      "price                0\n",
      "manufacturer     17397\n",
      "model             5195\n",
      "condition       171619\n",
      "cylinders       174778\n",
      "fuel              2372\n",
      "odometer             0\n",
      "title_status      7602\n",
      "transmission      1695\n",
      "drive           129080\n",
      "type             91904\n",
      "car_age           1136\n",
      "dtype: int64\n"
     ]
    }
   ],
   "source": [
    "print(len(df_cleaned))\n",
    "\n",
    "df_cleaned = df_cleaned.dropna(subset = ['price', 'odometer'])\n",
    "\n",
    "print(f\"after dropping rows: {len(df_cleaned)}\")\n",
    "print(df_cleaned.isnull().sum())"
   ]
  },
  {
   "cell_type": "code",
   "execution_count": 41,
   "id": "f63dee74-ba1b-41c1-baef-4615369a52dd",
   "metadata": {},
   "outputs": [
    {
     "name": "stdout",
     "output_type": "stream",
     "text": [
      "[]\n",
      "price           0\n",
      "manufacturer    0\n",
      "model           0\n",
      "condition       0\n",
      "cylinders       0\n",
      "fuel            0\n",
      "odometer        0\n",
      "title_status    0\n",
      "transmission    0\n",
      "drive           0\n",
      "type            0\n",
      "car_age         0\n",
      "dtype: int64\n"
     ]
    }
   ],
   "source": [
    "columns_to_fill = df_cleaned.isnull().sum()\n",
    "columns_to_fill = columns_to_fill[columns_to_fill > 0].index.tolist()\n",
    "\n",
    "print(columns_to_fill)\n",
    "\n",
    "for col in columns_to_fill:\n",
    "    df_cleaned[col].fillna('Uknown', inplace = True)\n",
    "    print(f\"filled NaN in {col} with 'unknown'\")\n",
    "print(df_cleaned.isnull().sum())"
   ]
  },
  {
   "cell_type": "code",
   "execution_count": null,
   "id": "cc11878d-9a48-469f-85e0-7adebd89b466",
   "metadata": {},
   "outputs": [],
   "source": []
  }
 ],
 "metadata": {
  "kernelspec": {
   "display_name": "Python [conda env:base] *",
   "language": "python",
   "name": "conda-base-py"
  },
  "language_info": {
   "codemirror_mode": {
    "name": "ipython",
    "version": 3
   },
   "file_extension": ".py",
   "mimetype": "text/x-python",
   "name": "python",
   "nbconvert_exporter": "python",
   "pygments_lexer": "ipython3",
   "version": "3.13.5"
  }
 },
 "nbformat": 4,
 "nbformat_minor": 5
}
